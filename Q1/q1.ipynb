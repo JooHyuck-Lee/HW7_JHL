{
 "cells": [
  {
   "cell_type": "code",
   "execution_count": 1,
   "id": "40706fa3",
   "metadata": {},
   "outputs": [
    {
     "name": "stdout",
     "output_type": "stream",
     "text": [
      "Eigenvalues: Eigenvalue1 = -0.3722813232690143 \b, Eigenvalue2 =  5.372281323269014\n",
      "Eigenvectors: Vector1 = [-0.82456484  0.56576746] \b, Vector2 = [-0.41597356 -0.90937671]\n",
      "Determinant: -2\n",
      "Cross product: [-3  6 -3]\n",
      "Solution: [-1. -4.  3.]\n"
     ]
    }
   ],
   "source": [
    "import numpy as np\n",
    "\n",
    "def main():\n",
    "    arr = np.array([[1, 2],\n",
    "                   [3, 4]])\n",
    "    eigenvalue, eigenvector = np.linalg.eig(arr)\n",
    "    eigenvector = eigenvector.transpose()\n",
    "    determinant = np.linalg.det(arr)\n",
    "    \n",
    "    vec1 = [1, 2, 3]\n",
    "    vec2 = [4, 5, 6]\n",
    "    cross_product = np.cross(vec1, vec2)\n",
    "    \n",
    "    A = np.array([[1, 2, -2],\n",
    "                 [2, 1, -5],\n",
    "                 [1, -4, 1]])\n",
    "    b = np.array([-15, -21, 18])\n",
    "    solution = np.linalg.solve(A, b)\n",
    "    \n",
    "    \n",
    "    print(\"Eigenvalues: Eigenvalue1 =\", eigenvalue[0], \"\\b, Eigenvalue2 = \", eigenvalue[1])\n",
    "    print(\"Eigenvectors: Vector1 =\", eigenvector[0], \"\\b, Vector2 =\", eigenvector[1])\n",
    "    print(\"Determinant:\", round(determinant))\n",
    "    print(\"Cross product:\", cross_product)\n",
    "    print(\"Solution:\", solution)\n",
    "    \n",
    "\n",
    "\n",
    "\n",
    "if __name__ == \"__main__\":\n",
    "        main()"
   ]
  },
  {
   "cell_type": "code",
   "execution_count": null,
   "id": "18487c70",
   "metadata": {},
   "outputs": [],
   "source": []
  }
 ],
 "metadata": {
  "kernelspec": {
   "display_name": "Python 3 (ipykernel)",
   "language": "python",
   "name": "python3"
  },
  "language_info": {
   "codemirror_mode": {
    "name": "ipython",
    "version": 3
   },
   "file_extension": ".py",
   "mimetype": "text/x-python",
   "name": "python",
   "nbconvert_exporter": "python",
   "pygments_lexer": "ipython3",
   "version": "3.11.2"
  }
 },
 "nbformat": 4,
 "nbformat_minor": 5
}
