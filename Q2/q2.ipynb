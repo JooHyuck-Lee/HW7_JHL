{
 "cells": [
  {
   "cell_type": "code",
   "execution_count": 5,
   "id": "6f056146",
   "metadata": {},
   "outputs": [
    {
     "name": "stdout",
     "output_type": "stream",
     "text": [
      "doc1 = 0.58\n",
      "doc2 = 0.87\n",
      "doc3 = 0.67\n"
     ]
    }
   ],
   "source": [
    "import numpy as np\n",
    "\n",
    "def cos_sim(doc, query):\n",
    "    result = np.dot(doc, query.transpose()) / (np.linalg.norm(doc) * np.linalg.norm(query))\n",
    "    return result\n",
    "\n",
    "\n",
    "def main():\n",
    "    docs = np.array([[1,1,0,1,0,1],\n",
    "                    [1,1,1,0,1,0],\n",
    "                    [1,1,0,1,0,0]])\n",
    "    query = np.array([1,1,0,0,1,0])\n",
    "    \n",
    "    row, col = docs.shape\n",
    "    for i in range(0, row):\n",
    "        result = cos_sim(docs[i], query)\n",
    "        print(\"doc%d = %.2f\"%(i + 1, result))\n",
    "    \n",
    "    \n",
    "    \n",
    "    \n",
    "\n",
    "if __name__ == \"__main__\":\n",
    "    main()"
   ]
  },
  {
   "cell_type": "code",
   "execution_count": null,
   "id": "9ccc39af",
   "metadata": {},
   "outputs": [],
   "source": []
  }
 ],
 "metadata": {
  "kernelspec": {
   "display_name": "Python 3 (ipykernel)",
   "language": "python",
   "name": "python3"
  },
  "language_info": {
   "codemirror_mode": {
    "name": "ipython",
    "version": 3
   },
   "file_extension": ".py",
   "mimetype": "text/x-python",
   "name": "python",
   "nbconvert_exporter": "python",
   "pygments_lexer": "ipython3",
   "version": "3.11.2"
  }
 },
 "nbformat": 4,
 "nbformat_minor": 5
}
